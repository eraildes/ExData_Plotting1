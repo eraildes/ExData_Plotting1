{
  "nbformat": 4,
  "nbformat_minor": 0,
  "metadata": {
    "colab": {
      "name": "RECLAME 2021 INDICADAS.ipynb",
      "provenance": [],
      "collapsed_sections": [],
      "authorship_tag": "ABX9TyOv2lDoWyc1q9048WNT9eeS",
      "include_colab_link": true
    },
    "kernelspec": {
      "display_name": "Python 3",
      "name": "python3"
    },
    "language_info": {
      "name": "python"
    }
  },
  "cells": [
    {
      "cell_type": "markdown",
      "metadata": {
        "id": "view-in-github",
        "colab_type": "text"
      },
      "source": [
        "<a href=\"https://colab.research.google.com/github/eraildes/ExData_Plotting1/blob/master/RECLAME_2021_INDICADAS.ipynb\" target=\"_parent\"><img src=\"https://colab.research.google.com/assets/colab-badge.svg\" alt=\"Open In Colab\"/></a>"
      ]
    },
    {
      "cell_type": "code",
      "metadata": {
        "colab": {
          "base_uri": "https://localhost:8080/"
        },
        "id": "RHOhfrQzDLmd",
        "outputId": "5c2c4e28-5ab5-4f2d-ae26-7987409abc76"
      },
      "source": [
        "!apt-get update\n",
        "!pip install selenium \n",
        "!apt install chromium-chromedriver\n",
        "!pip install -U fake-useragent\n",
        "#import fake_useragent\n",
        "#from fake_useragent import UserAgent\n",
        "import pandas as pd\n",
        "import numpy as np\n",
        "from selenium import webdriver\n",
        "from selenium.webdriver.common.by import By\n",
        "from selenium.webdriver.support.ui import WebDriverWait\n",
        "from selenium.webdriver.support import expected_conditions as EC\n",
        "from selenium.webdriver.common.keys import Keys\n",
        "from datetime import datetime, timedelta\n",
        "chrome_options = webdriver.ChromeOptions()\n",
        "#chrome_options.add_argument('user-agent: Mozilla/5.0 (Windows NT 6.3; WOW64) AppleWebKit/537.36 (KHTML, like Gecko) Chrome/59.0.3071.115 Safari/537.36')\n",
        "chrome_options.add_argument('--no-sandbox')\n",
        "chrome_options.add_argument('--disable-dev-shm-usage')\n",
        "chrome_options.add_argument('--disable-gpu')\n",
        "chrome_options.add_argument('--headless')\n",
        "#ua = fake_useragent.UserAgent(fallback='Chrome')\n",
        "header = str(\"user-agent=Mozilla/5.0 (X11; Linux x86_64) AppleWebKit/537.36 (KHTML, like Gecko) Chrome/92.0.4515.159 Safari/537.36\")\n",
        "chrome_options.add_argument(header)\n",
        "chromedriver_location = \"/usr/bin/chromedriver\""
      ],
      "execution_count": 1,
      "outputs": [
        {
          "output_type": "stream",
          "name": "stdout",
          "text": [
            "\r0% [Working]\r            \rGet:1 https://cloud.r-project.org/bin/linux/ubuntu bionic-cran40/ InRelease [3,626 B]\n",
            "\r0% [Connecting to archive.ubuntu.com (91.189.88.152)] [Connecting to security.u\r0% [Connecting to archive.ubuntu.com (91.189.88.152)] [Connecting to security.u\r0% [1 InRelease gpgv 3,626 B] [Waiting for headers] [Waiting for headers] [Wait\r                                                                               \rIgn:2 https://developer.download.nvidia.com/compute/cuda/repos/ubuntu1804/x86_64  InRelease\n",
            "\r0% [1 InRelease gpgv 3,626 B] [Waiting for headers] [Waiting for headers] [Wait\r                                                                               \rGet:3 http://ppa.launchpad.net/c2d4u.team/c2d4u4.0+/ubuntu bionic InRelease [15.9 kB]\n",
            "\r0% [1 InRelease gpgv 3,626 B] [Waiting for headers] [Waiting for headers] [3 In\r                                                                               \rGet:4 http://security.ubuntu.com/ubuntu bionic-security InRelease [88.7 kB]\n",
            "Hit:5 http://archive.ubuntu.com/ubuntu bionic InRelease\n",
            "Ign:6 https://developer.download.nvidia.com/compute/machine-learning/repos/ubuntu1804/x86_64  InRelease\n",
            "Get:7 https://developer.download.nvidia.com/compute/cuda/repos/ubuntu1804/x86_64  Release [696 B]\n",
            "Get:8 http://archive.ubuntu.com/ubuntu bionic-updates InRelease [88.7 kB]\n",
            "Hit:9 https://developer.download.nvidia.com/compute/machine-learning/repos/ubuntu1804/x86_64  Release\n",
            "Get:10 https://developer.download.nvidia.com/compute/cuda/repos/ubuntu1804/x86_64  Release.gpg [836 B]\n",
            "Hit:11 http://ppa.launchpad.net/cran/libgit2/ubuntu bionic InRelease\n",
            "Get:12 http://archive.ubuntu.com/ubuntu bionic-backports InRelease [74.6 kB]\n",
            "Hit:13 http://ppa.launchpad.net/deadsnakes/ppa/ubuntu bionic InRelease\n",
            "Hit:14 http://ppa.launchpad.net/graphics-drivers/ppa/ubuntu bionic InRelease\n",
            "Get:15 http://ppa.launchpad.net/c2d4u.team/c2d4u4.0+/ubuntu bionic/main Sources [1,822 kB]\n",
            "Get:17 https://developer.download.nvidia.com/compute/cuda/repos/ubuntu1804/x86_64  Packages [834 kB]\n",
            "Get:18 http://ppa.launchpad.net/c2d4u.team/c2d4u4.0+/ubuntu bionic/main amd64 Packages [934 kB]\n",
            "Get:19 http://security.ubuntu.com/ubuntu bionic-security/main amd64 Packages [2,492 kB]\n",
            "Get:20 http://security.ubuntu.com/ubuntu bionic-security/universe amd64 Packages [1,459 kB]\n",
            "Get:21 http://archive.ubuntu.com/ubuntu bionic-updates/main amd64 Packages [2,935 kB]\n",
            "Get:22 http://archive.ubuntu.com/ubuntu bionic-updates/restricted amd64 Packages [758 kB]\n",
            "Fetched 11.5 MB in 6s (2,091 kB/s)\n",
            "Reading package lists... Done\n",
            "Collecting selenium\n",
            "  Downloading selenium-4.1.0-py3-none-any.whl (958 kB)\n",
            "\u001b[K     |████████████████████████████████| 958 kB 22.9 MB/s \n",
            "\u001b[?25hCollecting trio~=0.17\n",
            "  Downloading trio-0.19.0-py3-none-any.whl (356 kB)\n",
            "\u001b[K     |████████████████████████████████| 356 kB 40.8 MB/s \n",
            "\u001b[?25hCollecting trio-websocket~=0.9\n",
            "  Downloading trio_websocket-0.9.2-py3-none-any.whl (16 kB)\n",
            "Collecting urllib3[secure]~=1.26\n",
            "  Downloading urllib3-1.26.8-py2.py3-none-any.whl (138 kB)\n",
            "\u001b[K     |████████████████████████████████| 138 kB 54.6 MB/s \n",
            "\u001b[?25hRequirement already satisfied: attrs>=19.2.0 in /usr/local/lib/python3.7/dist-packages (from trio~=0.17->selenium) (21.4.0)\n",
            "Collecting outcome\n",
            "  Downloading outcome-1.1.0-py2.py3-none-any.whl (9.7 kB)\n",
            "Collecting sniffio\n",
            "  Downloading sniffio-1.2.0-py3-none-any.whl (10 kB)\n",
            "Requirement already satisfied: idna in /usr/local/lib/python3.7/dist-packages (from trio~=0.17->selenium) (2.10)\n",
            "Collecting async-generator>=1.9\n",
            "  Downloading async_generator-1.10-py3-none-any.whl (18 kB)\n",
            "Requirement already satisfied: sortedcontainers in /usr/local/lib/python3.7/dist-packages (from trio~=0.17->selenium) (2.4.0)\n",
            "Collecting wsproto>=0.14\n",
            "  Downloading wsproto-1.0.0-py3-none-any.whl (24 kB)\n",
            "Requirement already satisfied: certifi in /usr/local/lib/python3.7/dist-packages (from urllib3[secure]~=1.26->selenium) (2021.10.8)\n",
            "Collecting pyOpenSSL>=0.14\n",
            "  Downloading pyOpenSSL-21.0.0-py2.py3-none-any.whl (55 kB)\n",
            "\u001b[K     |████████████████████████████████| 55 kB 2.4 MB/s \n",
            "\u001b[?25hCollecting cryptography>=1.3.4\n",
            "  Downloading cryptography-36.0.1-cp36-abi3-manylinux_2_24_x86_64.whl (3.6 MB)\n",
            "\u001b[K     |████████████████████████████████| 3.6 MB 31.4 MB/s \n",
            "\u001b[?25hRequirement already satisfied: cffi>=1.12 in /usr/local/lib/python3.7/dist-packages (from cryptography>=1.3.4->urllib3[secure]~=1.26->selenium) (1.15.0)\n",
            "Requirement already satisfied: pycparser in /usr/local/lib/python3.7/dist-packages (from cffi>=1.12->cryptography>=1.3.4->urllib3[secure]~=1.26->selenium) (2.21)\n",
            "Requirement already satisfied: six>=1.5.2 in /usr/local/lib/python3.7/dist-packages (from pyOpenSSL>=0.14->urllib3[secure]~=1.26->selenium) (1.15.0)\n",
            "Collecting h11<1,>=0.9.0\n",
            "  Downloading h11-0.12.0-py3-none-any.whl (54 kB)\n",
            "\u001b[K     |████████████████████████████████| 54 kB 2.5 MB/s \n",
            "\u001b[?25hInstalling collected packages: sniffio, outcome, h11, cryptography, async-generator, wsproto, urllib3, trio, pyOpenSSL, trio-websocket, selenium\n",
            "  Attempting uninstall: urllib3\n",
            "    Found existing installation: urllib3 1.24.3\n",
            "    Uninstalling urllib3-1.24.3:\n",
            "      Successfully uninstalled urllib3-1.24.3\n",
            "\u001b[31mERROR: pip's dependency resolver does not currently take into account all the packages that are installed. This behaviour is the source of the following dependency conflicts.\n",
            "requests 2.23.0 requires urllib3!=1.25.0,!=1.25.1,<1.26,>=1.21.1, but you have urllib3 1.26.8 which is incompatible.\n",
            "datascience 0.10.6 requires folium==0.2.1, but you have folium 0.8.3 which is incompatible.\u001b[0m\n",
            "Successfully installed async-generator-1.10 cryptography-36.0.1 h11-0.12.0 outcome-1.1.0 pyOpenSSL-21.0.0 selenium-4.1.0 sniffio-1.2.0 trio-0.19.0 trio-websocket-0.9.2 urllib3-1.26.8 wsproto-1.0.0\n",
            "Reading package lists... Done\n",
            "Building dependency tree       \n",
            "Reading state information... Done\n",
            "The following additional packages will be installed:\n",
            "  chromium-browser chromium-browser-l10n chromium-codecs-ffmpeg-extra\n",
            "Suggested packages:\n",
            "  webaccounts-chromium-extension unity-chromium-extension\n",
            "The following NEW packages will be installed:\n",
            "  chromium-browser chromium-browser-l10n chromium-chromedriver\n",
            "  chromium-codecs-ffmpeg-extra\n",
            "0 upgraded, 4 newly installed, 0 to remove and 39 not upgraded.\n",
            "Need to get 94.0 MB of archives.\n",
            "After this operation, 324 MB of additional disk space will be used.\n",
            "Get:1 http://archive.ubuntu.com/ubuntu bionic-updates/universe amd64 chromium-codecs-ffmpeg-extra amd64 95.0.4638.69-0ubuntu0.18.04.1 [1,135 kB]\n",
            "Get:2 http://archive.ubuntu.com/ubuntu bionic-updates/universe amd64 chromium-browser amd64 95.0.4638.69-0ubuntu0.18.04.1 [83.6 MB]\n",
            "Get:3 http://archive.ubuntu.com/ubuntu bionic-updates/universe amd64 chromium-browser-l10n all 95.0.4638.69-0ubuntu0.18.04.1 [4,249 kB]\n",
            "Get:4 http://archive.ubuntu.com/ubuntu bionic-updates/universe amd64 chromium-chromedriver amd64 95.0.4638.69-0ubuntu0.18.04.1 [4,986 kB]\n",
            "Fetched 94.0 MB in 4s (23.5 MB/s)\n",
            "Selecting previously unselected package chromium-codecs-ffmpeg-extra.\n",
            "(Reading database ... 155229 files and directories currently installed.)\n",
            "Preparing to unpack .../chromium-codecs-ffmpeg-extra_95.0.4638.69-0ubuntu0.18.04.1_amd64.deb ...\n",
            "Unpacking chromium-codecs-ffmpeg-extra (95.0.4638.69-0ubuntu0.18.04.1) ...\n",
            "Selecting previously unselected package chromium-browser.\n",
            "Preparing to unpack .../chromium-browser_95.0.4638.69-0ubuntu0.18.04.1_amd64.deb ...\n",
            "Unpacking chromium-browser (95.0.4638.69-0ubuntu0.18.04.1) ...\n",
            "Selecting previously unselected package chromium-browser-l10n.\n",
            "Preparing to unpack .../chromium-browser-l10n_95.0.4638.69-0ubuntu0.18.04.1_all.deb ...\n",
            "Unpacking chromium-browser-l10n (95.0.4638.69-0ubuntu0.18.04.1) ...\n",
            "Selecting previously unselected package chromium-chromedriver.\n",
            "Preparing to unpack .../chromium-chromedriver_95.0.4638.69-0ubuntu0.18.04.1_amd64.deb ...\n",
            "Unpacking chromium-chromedriver (95.0.4638.69-0ubuntu0.18.04.1) ...\n",
            "Setting up chromium-codecs-ffmpeg-extra (95.0.4638.69-0ubuntu0.18.04.1) ...\n",
            "Setting up chromium-browser (95.0.4638.69-0ubuntu0.18.04.1) ...\n",
            "update-alternatives: using /usr/bin/chromium-browser to provide /usr/bin/x-www-browser (x-www-browser) in auto mode\n",
            "update-alternatives: using /usr/bin/chromium-browser to provide /usr/bin/gnome-www-browser (gnome-www-browser) in auto mode\n",
            "Setting up chromium-chromedriver (95.0.4638.69-0ubuntu0.18.04.1) ...\n",
            "Setting up chromium-browser-l10n (95.0.4638.69-0ubuntu0.18.04.1) ...\n",
            "Processing triggers for man-db (2.8.3-2ubuntu0.1) ...\n",
            "Processing triggers for hicolor-icon-theme (0.17-2) ...\n",
            "Processing triggers for mime-support (3.60ubuntu1) ...\n",
            "Processing triggers for libc-bin (2.27-3ubuntu1.3) ...\n",
            "/sbin/ldconfig.real: /usr/local/lib/python3.7/dist-packages/ideep4py/lib/libmkldnn.so.0 is not a symbolic link\n",
            "\n",
            "Collecting fake-useragent\n",
            "  Downloading fake-useragent-0.1.11.tar.gz (13 kB)\n",
            "Building wheels for collected packages: fake-useragent\n",
            "  Building wheel for fake-useragent (setup.py) ... \u001b[?25l\u001b[?25hdone\n",
            "  Created wheel for fake-useragent: filename=fake_useragent-0.1.11-py3-none-any.whl size=13502 sha256=b1eddfaacf710bc4fa2b88b10a2db36c2282378f91b08b0204bfeedc625c6a2f\n",
            "  Stored in directory: /root/.cache/pip/wheels/ed/f7/62/50ab6c9a0b5567267ab76a9daa9d06315704209b2c5d032031\n",
            "Successfully built fake-useragent\n",
            "Installing collected packages: fake-useragent\n",
            "Successfully installed fake-useragent-0.1.11\n"
          ]
        }
      ]
    },
    {
      "cell_type": "code",
      "metadata": {
        "colab": {
          "base_uri": "https://localhost:8080/"
        },
        "id": "jBw62I8nFnP2",
        "outputId": "a603c175-5792-4939-d62f-bdd774519aa9"
      },
      "source": [
        "\n",
        "webdriver = webdriver.Chrome(chromedriver_location, options=chrome_options)\n"
      ],
      "execution_count": 2,
      "outputs": [
        {
          "output_type": "stream",
          "name": "stderr",
          "text": [
            "/usr/local/lib/python3.7/dist-packages/ipykernel_launcher.py:2: DeprecationWarning: executable_path has been deprecated, please pass in a Service object\n",
            "  \n"
          ]
        }
      ]
    },
    {
      "cell_type": "code",
      "metadata": {
        "id": "EH2YAa8pF9lf"
      },
      "source": [
        "df = pd.DataFrame(columns=['Empresa', 'Score', 'Reputação','Período', 'Data','Reclamações','Respondidas','Avaliadas','Voltaria a Fazer Negócio','Indice de Solução','Nota do Consumidor'])\n",
        "df2 = pd.DataFrame(columns=['Empresa', 'Score', 'Reputação','Período','Data','Reclamações','Respondidas','Avaliadas','Voltaria a Fazer Negócio','Indice de Solução','Nota do Consumidor'])"
      ],
      "execution_count": 20,
      "outputs": []
    },
    {
      "cell_type": "code",
      "metadata": {
        "id": "e8OdXwO6EiD5"
      },
      "source": [
        "sites = [\"https://www.reclameaqui.com.br/empresa/centro-universitario-uninter\",\n",
        "         \"https://www.reclameaqui.com.br/empresa/descomplica-pos-graduacao/\",\n",
        "         \"https://www.reclameaqui.com.br/empresa/centro-universitario-eniac/\",\n",
        "         \"https://www.reclameaqui.com.br/empresa/ipemig/\",\n",
        "         \"https://www.reclameaqui.com.br/empresa/unibf-faculdade/\",\n",
        "          \"https://www.reclameaqui.com.br/empresa/faculdade-faveni-faculdade-venda-nova-do-imigrante/\",\n",
        "         \"https://www.reclameaqui.com.br/empresa/faculdade-unyleya-avm-faculdade-integrada/\",\n",
        "        \"https://www.reclameaqui.com.br/empresa/instituto-prominas/\",\n",
        "          \"https://www.reclameaqui.com.br/empresa/universidade-anhembi-morumbi/\",\n",
        "           \"https://www.reclameaqui.com.br/empresa/unisuam-centro-universitario-augusto-motta/\",\n",
        "         \"https://www.reclameaqui.com.br/empresa/ibmr-centro-universitario/\",\n",
        "         \"https://www.reclameaqui.com.br/empresa/unicesumar-centro-universitario-cesumar/\",\n",
        "         \"https://www.reclameaqui.com.br/empresa/faculdade-das-americas-fam/\"\n",
        "       \n",
        "         ]      "
      ],
      "execution_count": 15,
      "outputs": []
    },
    {
      "cell_type": "code",
      "metadata": {
        "colab": {
          "base_uri": "https://localhost:8080/"
        },
        "id": "kJZcyHT6E4Ao",
        "outputId": "e3522b70-ab0f-470a-b0ba-557aaa7501e7"
      },
      "source": [
        "for site in sites:\n",
        "        \n",
        "        webdriver.get(site)\n",
        "        #WebDriverWait(webdriver,10).until(EC.presence_of_element_located((By.ID, 'IdOfMyElement')))\n",
        "        dados6m = np.array([webdriver.find_element_by_xpath(\"//*[@class='short-name']\").text, \n",
        "                        webdriver.find_element_by_xpath(\"//*[@class='score']//b\").text,\n",
        "                        webdriver.find_element_by_xpath(\"//*[@class='description']\").text,\n",
        "                        webdriver.find_element_by_xpath(\"//*[(@id= 'reputation-tab-1')]\").text,\n",
        "                        webdriver.find_elements_by_xpath(\"//*[(@class= 'stats')]\")[0].text[-23:],\n",
        "                        int(webdriver.find_elements_by_xpath(\"//*[(@class= 'stats')]\")[1].text),\n",
        "                        int(webdriver.find_elements_by_xpath(\"//*[(@class= 'stats')]\")[2].text),\n",
        "                        webdriver.find_elements_by_xpath(\"//*[(@class= 'col-xs-6 col-sm-6')]//b\")[1].text,\n",
        "                        pd.to_numeric(webdriver.find_elements_by_xpath('//*[contains(concat( \" \", @class, \" \" ), concat( \" \", \"label\", \" \" ))]')[1].text.replace(\"%\",\"\")),\n",
        "                        pd.to_numeric(webdriver.find_elements_by_xpath('//*[contains(concat( \" \", @class, \" \" ), concat( \" \", \"label\", \" \" ))]')[2].text.replace(\"%\",\"\")),\n",
        "                        pd.to_numeric(webdriver.find_elements_by_xpath('//*[contains(concat( \" \", @class, \" \" ), concat( \" \", \"label\", \" \" ))]')[3].text),\n",
        "                       \n",
        "                           ])\n",
        "        webdriver.find_element_by_xpath(\"//*[(@id='reputation-tab-2')]\").send_keys(Keys.ENTER)\n",
        "       \n",
        "       \n",
        "        dados12m = np.array([webdriver.find_element_by_xpath(\"//*[@class='short-name']\").text, \n",
        "                        webdriver.find_element_by_xpath(\"//*[@class='score']//b\").text,\n",
        "                        webdriver.find_element_by_xpath(\"//*[@class='description']\")\n",
        "                            .text,\n",
        "                        webdriver.find_element_by_xpath(\"//*[(@id= 'reputation-tab-2')]\")\n",
        "                            .text,\n",
        "                        webdriver.find_elements_by_xpath(\"//*[(@class= 'stats')]\")[0].text[-23:],    \n",
        "                        webdriver.find_elements_by_xpath(\"//*[(@class= 'stats')]\")[1].text,\n",
        "                        webdriver.find_elements_by_xpath(\"//*[(@class= 'stats')]\")[2].text,\n",
        "                        webdriver.find_elements_by_xpath(\"//*[(@class= 'col-xs-6 col-sm-6')]//b\")[1].text,\n",
        "                        pd.to_numeric(webdriver.find_elements_by_xpath('//*[contains(concat( \" \", @class, \" \" ), concat( \" \", \"label\", \" \" ))]')[1].text.replace(\"%\",\"\")),\n",
        "                        pd.to_numeric(webdriver.find_elements_by_xpath('//*[contains(concat( \" \", @class, \" \" ), concat( \" \", \"label\", \" \" ))]')[2].text.replace(\"%\",\"\")),\n",
        "                        pd.to_numeric(webdriver.find_elements_by_xpath('//*[contains(concat( \" \", @class, \" \" ), concat( \" \", \"label\", \" \" ))]')[3].text),\n",
        "                         ])\n",
        "        \n",
        "        df.loc[len(df),0:11] = dados6m\n",
        "        df2.loc[len(df2)] = dados12m\n",
        "        \n",
        " "
      ],
      "execution_count": 21,
      "outputs": [
        {
          "output_type": "stream",
          "name": "stderr",
          "text": [
            "/usr/local/lib/python3.7/dist-packages/ipykernel_launcher.py:5: DeprecationWarning: find_element_by_* commands are deprecated. Please use find_element() instead\n",
            "  \"\"\"\n",
            "/usr/local/lib/python3.7/dist-packages/ipykernel_launcher.py:6: DeprecationWarning: find_element_by_* commands are deprecated. Please use find_element() instead\n",
            "  \n",
            "/usr/local/lib/python3.7/dist-packages/ipykernel_launcher.py:7: DeprecationWarning: find_element_by_* commands are deprecated. Please use find_element() instead\n",
            "  import sys\n",
            "/usr/local/lib/python3.7/dist-packages/ipykernel_launcher.py:8: DeprecationWarning: find_element_by_* commands are deprecated. Please use find_element() instead\n",
            "  \n",
            "/usr/local/lib/python3.7/dist-packages/ipykernel_launcher.py:9: DeprecationWarning: find_elements_by_* commands are deprecated. Please use find_elements() instead\n",
            "  if __name__ == '__main__':\n",
            "/usr/local/lib/python3.7/dist-packages/ipykernel_launcher.py:10: DeprecationWarning: find_elements_by_* commands are deprecated. Please use find_elements() instead\n",
            "  # Remove the CWD from sys.path while we load stuff.\n",
            "/usr/local/lib/python3.7/dist-packages/ipykernel_launcher.py:11: DeprecationWarning: find_elements_by_* commands are deprecated. Please use find_elements() instead\n",
            "  # This is added back by InteractiveShellApp.init_path()\n",
            "/usr/local/lib/python3.7/dist-packages/ipykernel_launcher.py:12: DeprecationWarning: find_elements_by_* commands are deprecated. Please use find_elements() instead\n",
            "  if sys.path[0] == '':\n",
            "/usr/local/lib/python3.7/dist-packages/ipykernel_launcher.py:13: DeprecationWarning: find_elements_by_* commands are deprecated. Please use find_elements() instead\n",
            "  del sys.path[0]\n",
            "/usr/local/lib/python3.7/dist-packages/ipykernel_launcher.py:14: DeprecationWarning: find_elements_by_* commands are deprecated. Please use find_elements() instead\n",
            "  \n",
            "/usr/local/lib/python3.7/dist-packages/ipykernel_launcher.py:15: DeprecationWarning: find_elements_by_* commands are deprecated. Please use find_elements() instead\n",
            "  from ipykernel import kernelapp as app\n",
            "/usr/local/lib/python3.7/dist-packages/ipykernel_launcher.py:18: DeprecationWarning: find_element_by_* commands are deprecated. Please use find_element() instead\n",
            "/usr/local/lib/python3.7/dist-packages/ipykernel_launcher.py:21: DeprecationWarning: find_element_by_* commands are deprecated. Please use find_element() instead\n",
            "/usr/local/lib/python3.7/dist-packages/ipykernel_launcher.py:22: DeprecationWarning: find_element_by_* commands are deprecated. Please use find_element() instead\n",
            "/usr/local/lib/python3.7/dist-packages/ipykernel_launcher.py:23: DeprecationWarning: find_element_by_* commands are deprecated. Please use find_element() instead\n",
            "/usr/local/lib/python3.7/dist-packages/ipykernel_launcher.py:25: DeprecationWarning: find_element_by_* commands are deprecated. Please use find_element() instead\n",
            "/usr/local/lib/python3.7/dist-packages/ipykernel_launcher.py:27: DeprecationWarning: find_elements_by_* commands are deprecated. Please use find_elements() instead\n",
            "/usr/local/lib/python3.7/dist-packages/ipykernel_launcher.py:28: DeprecationWarning: find_elements_by_* commands are deprecated. Please use find_elements() instead\n",
            "/usr/local/lib/python3.7/dist-packages/ipykernel_launcher.py:29: DeprecationWarning: find_elements_by_* commands are deprecated. Please use find_elements() instead\n",
            "/usr/local/lib/python3.7/dist-packages/ipykernel_launcher.py:30: DeprecationWarning: find_elements_by_* commands are deprecated. Please use find_elements() instead\n",
            "/usr/local/lib/python3.7/dist-packages/ipykernel_launcher.py:31: DeprecationWarning: find_elements_by_* commands are deprecated. Please use find_elements() instead\n",
            "/usr/local/lib/python3.7/dist-packages/ipykernel_launcher.py:32: DeprecationWarning: find_elements_by_* commands are deprecated. Please use find_elements() instead\n",
            "/usr/local/lib/python3.7/dist-packages/ipykernel_launcher.py:33: DeprecationWarning: find_elements_by_* commands are deprecated. Please use find_elements() instead\n",
            "/usr/local/lib/python3.7/dist-packages/ipykernel_launcher.py:36: FutureWarning: Slicing a positional slice with .loc is not supported, and will raise TypeError in a future version.  Use .loc with labels or .iloc with positions instead.\n"
          ]
        }
      ]
    },
    {
      "cell_type": "code",
      "metadata": {
        "id": "otQ8qrixGuGS"
      },
      "source": [
        "from datetime import datetime\n",
        "from pandas import ExcelWriter\n",
        "from time import gmtime, strftime\n",
        "df['Score'] = pd.to_numeric(df['Score'])\n",
        "df2['Score'] = pd.to_numeric(df2['Score'])\n",
        "df['Voltaria a Fazer Negócio'] = pd.to_numeric(df['Voltaria a Fazer Negócio'])\n",
        "df2['Voltaria a Fazer Negócio'] = pd.to_numeric(df2['Voltaria a Fazer Negócio'])\n",
        "df['Indice de Solução'] = pd.to_numeric(df['Indice de Solução'])\n",
        "df2['Indice de Solução'] = pd.to_numeric(df2['Indice de Solução'])\n",
        "df['Nota do Consumidor'] = pd.to_numeric(df['Nota do Consumidor'])\n",
        "df2['Nota do Consumidor'] = pd.to_numeric(df2['Nota do Consumidor'])\n",
        "df = df.sort_values(by='Score', ascending=False, ignore_index=False)\n",
        "df2 = df2.sort_values(by='Score', ascending=False, ignore_index=False)\n",
        "df['ranking'] = range(1,len(df['Score'])+1)\n",
        "df = df.set_index(df['ranking'])\n",
        "df2 = df2.set_index(df['ranking'])\n",
        "df = df.drop(columns='ranking')\n",
        "df2 = df2.drop(columns='ranking')\n",
        "df2['ranking'] = range(1,len(df2['Score'])+1)\n",
        "d = datetime.today() - timedelta(hours=3, minutes=00)\n",
        "Current_Date = d.strftime('_%d-%m-%Y_%H:%M %p')\n",
        "df.style.to_excel('Mais_Reclamadas'+ str(Current_Date) + '.xlsx', engine='openpyxl')\n",
        "with pd.ExcelWriter('Mais_Reclamadas' + str(Current_Date) + '.xlsx') as writer:\n",
        "  df.style.to_excel(writer,sheet_name='06meses', engine='openpyxlWriter')\n",
        "  df2.style.to_excel(writer, sheet_name='12meses', engine='openpyxlWriter')\n",
        "  \n",
        "\n",
        "#Current_Date = datetime.today().strftime ('%d-%b-%Y')\n",
        "#os.rename('/content/arquivo.xlsx',  '/content/' + str(Current_Date) + '.xlsx')"
      ],
      "execution_count": 36,
      "outputs": []
    },
    {
      "cell_type": "code",
      "source": [
        ""
      ],
      "metadata": {
        "colab": {
          "base_uri": "https://localhost:8080/"
        },
        "id": "M_Tc7S2p9YO0",
        "outputId": "dcb0fe4f-bbe0-4a00-b18b-2193beb27780"
      },
      "execution_count": 9,
      "outputs": [
        {
          "output_type": "execute_result",
          "data": {
            "text/plain": [
              "<bound method DataFrame.sort_index of                                               Empresa  ...  Nota do Consumidor\n",
              "1                        Descomplica - Pós- Graduação  ...                7.84\n",
              "2                          Centro Universitário ENIAC  ...                7.90\n",
              "7                                      Grupo Prominas  ...                7.70\n",
              "9        UNISUAM - Centro Universitário Augusto Motta  ...                7.48\n",
              "5   Faculdade Faveni - Faculdade Venda Nova do Imi...  ...                7.42\n",
              "11                  Unicesumar – Universidade Cesumar  ...                7.39\n",
              "0                      Centro Universitário - Uninter  ...                7.34\n",
              "3                                              IPEMIG  ...                7.12\n",
              "6                                   Faculdade Unyleya  ...                6.93\n",
              "12                           FAM Centro Universitário  ...                6.70\n",
              "4                                     UniBF Faculdade  ...                6.86\n",
              "8                        Universidade Anhembi Morumbi  ...                5.44\n",
              "10                          IBMR Centro Universitário  ...                4.60\n",
              "\n",
              "[13 rows x 11 columns]>"
            ]
          },
          "metadata": {},
          "execution_count": 9
        }
      ]
    }
  ]
}